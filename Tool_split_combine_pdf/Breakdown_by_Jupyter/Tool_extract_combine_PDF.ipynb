{
 "cells": [
  {
   "cell_type": "code",
   "execution_count": 1,
   "id": "e1d80b1e",
   "metadata": {},
   "outputs": [],
   "source": [
    "import fitz\n",
    "import re\n",
    "import os \n",
    "import pandas as pd\n",
    "import numpy as np\n",
    "import warnings\n",
    "from tkinter import *\n",
    "import sys\n",
    "from tkinter import filedialog\n",
    "from PIL import Image"
   ]
  },
  {
   "cell_type": "code",
   "execution_count": 2,
   "id": "a2938cfc",
   "metadata": {},
   "outputs": [],
   "source": [
    "warnings.filterwarnings('ignore')"
   ]
  },
  {
   "cell_type": "markdown",
   "id": "f9454537",
   "metadata": {},
   "source": [
    "# DEFINE FUNCTION"
   ]
  },
  {
   "cell_type": "markdown",
   "id": "25b29854",
   "metadata": {},
   "source": [
    "## COMBINE FUNCTION"
   ]
  },
  {
   "cell_type": "code",
   "execution_count": 3,
   "id": "41177598",
   "metadata": {},
   "outputs": [],
   "source": [
    "def Combine_document(files_list:list,\n",
    "                     output_filename:str,\n",
    "                     save_location:str = r'C:\\Users\\trilnd\\Desktop\\QBO\\File PDF\\Checks_to_combine\\Combine\\Output'):\n",
    "    \"\"\"\n",
    "    files_list is group of file user chose before with type is List\n",
    "    output_filename is name of combined filename the user will name \n",
    "    save_location is Location include combine-pdf file\n",
    "    \"\"\"\n",
    "    info_dict = dict()\n",
    "    try:\n",
    "        # Connect with files_list and check whether file is PDF or not\n",
    "        for i in range(len(files_list)):\n",
    "            file = files_list[i]\n",
    "\n",
    "            # Get filepath and extension\n",
    "            f,e = os.path.splitext(file)\n",
    "            if e[1:].lower() != 'pdf':\n",
    "\n",
    "                # If file is PNG or JPEG will conv\n",
    "                img = Image.open(file)\n",
    "                img = img.convert(mode='RGB')\n",
    "                path_pdf_file = f'{f}.pdf'\n",
    "                img.save(path_pdf_file,save_all=True)\n",
    "                print(path_pdf_file)\n",
    "\n",
    "                # update files_list:\n",
    "                files_list[i] = path_pdf_file\n",
    "\n",
    "        # Add all files to summary file \n",
    "        blank_doc = fitz.open()\n",
    "        for file in files_list: \n",
    "\n",
    "            # Parse file PDF\n",
    "            document = fitz.open(filename=file)\n",
    "            base_name = os.path.basename(file)[:-4]\n",
    "            # Insert document\n",
    "            blank_doc.insert_pdf(docsrc=document)\n",
    "\n",
    "        # Save the summaried file to PDF file\n",
    "        combine_file_name = f'combine_{output_filename}.pdf'\n",
    "        location = os.path.join(save_location,combine_file_name)\n",
    "\n",
    "        # Store new document in the relevant location\n",
    "        blank_doc.save(filename=location)\n",
    "\n",
    "         # Save info of doc to dict\n",
    "        info_dict['Total_file'] = len(files_list)\n",
    "        info_dict['combine_filename'] = combine_file_name\n",
    "        info_dict['page_num'] = blank_doc.page_count\n",
    "        info_dict['Save_location'] = save_location\n",
    "        return info_dict\n",
    "    \n",
    "    except Exception as e:\n",
    "        info_dict['Error'] = e\n",
    "        return info_dict"
   ]
  },
  {
   "cell_type": "markdown",
   "id": "fa5e24f9",
   "metadata": {},
   "source": [
    "## Testing"
   ]
  },
  {
   "cell_type": "code",
   "execution_count": 4,
   "id": "0532726b",
   "metadata": {},
   "outputs": [],
   "source": [
    "root = Tk()\n",
    "desktop_path = os.path.join(os.environ['USERPROFILE'], 'Desktop')\n",
    "files_list = list(filedialog.askopenfilenames(parent=root,\n",
    "                                                initialdir=desktop_path,\n",
    "                                                title='Choose a file'))\n",
    "path = \"{}\".format('\\n'.join([os.path.basename(file) for file in files_list]))\n",
    "root.mainloop()"
   ]
  },
  {
   "cell_type": "code",
   "execution_count": 5,
   "id": "d269fee8-c320-476d-b95b-343fb69f8374",
   "metadata": {},
   "outputs": [
    {
     "data": {
      "text/plain": [
       "['1880.pdf', '1892.pdf', '1895.pdf', '1899.pdf', '1900.pdf']"
      ]
     },
     "execution_count": 5,
     "metadata": {},
     "output_type": "execute_result"
    }
   ],
   "source": [
    "[os.path.basename(file) for file in files_list]"
   ]
  },
  {
   "cell_type": "code",
   "execution_count": 13,
   "id": "d5e3b93c-c879-4070-a81e-101c42b46560",
   "metadata": {},
   "outputs": [
    {
     "data": {
      "text/plain": [
       "[True, True, True, True, True]"
      ]
     },
     "execution_count": 13,
     "metadata": {},
     "output_type": "execute_result"
    }
   ],
   "source": [
    "[os.path.isfile(file) for file in files_list]"
   ]
  },
  {
   "cell_type": "code",
   "execution_count": 7,
   "id": "46dc07e0-bae0-4a73-8f1d-d0857b1ddca9",
   "metadata": {},
   "outputs": [
    {
     "name": "stdout",
     "output_type": "stream",
     "text": [
      "1880.pdf\n",
      "1892.pdf\n",
      "1895.pdf\n",
      "1899.pdf\n",
      "1900.pdf\n"
     ]
    }
   ],
   "source": [
    "print(path)"
   ]
  },
  {
   "cell_type": "code",
   "execution_count": 10,
   "id": "aab9cd9c",
   "metadata": {},
   "outputs": [],
   "source": [
    "result = Combine_document(files_list=files_list,\n",
    "                          output_filename='test_jupyterlab',\n",
    "                          save_location=r'C:\\Users\\trilnd\\Desktop\\QBO\\File PDF\\Split_Combine_PDF\\Combine\\Output')"
   ]
  },
  {
   "cell_type": "code",
   "execution_count": 11,
   "id": "30e00e2b",
   "metadata": {},
   "outputs": [
    {
     "data": {
      "text/plain": [
       "{'Total_file': 5,\n",
       " 'combine_filename': 'combine_test_jupyterlab.pdf',\n",
       " 'page_num': 5,\n",
       " 'Save_location': 'C:\\\\Users\\\\trilnd\\\\Desktop\\\\QBO\\\\File PDF\\\\Split_Combine_PDF\\\\Combine\\\\Output'}"
      ]
     },
     "execution_count": 11,
     "metadata": {},
     "output_type": "execute_result"
    }
   ],
   "source": [
    "result"
   ]
  },
  {
   "cell_type": "markdown",
   "id": "f719851e",
   "metadata": {},
   "source": [
    "## SPLIT FUNCTION"
   ]
  },
  {
   "cell_type": "code",
   "execution_count": 3,
   "id": "975abe94",
   "metadata": {},
   "outputs": [],
   "source": [
    "def Split_document(source_doc, \n",
    "                   start_page:int, \n",
    "                   end_page:int, \n",
    "                   save_location):\n",
    "    \"\"\"\n",
    "    - Source document is the location of PDF file, \n",
    "    Ex: C:/Users/trilnd/Desktop/QBO/File PDF/Bank Statement/BofA.pdf\n",
    "\n",
    "    - Start_page is first page number user want to be splited \n",
    "    - End_page is last page number user want to be splited \n",
    "    - Save location: the folder contains splited PDF file \n",
    "    Ex: C:/Users/trilnd/Desktop/QBO/File PDF/Bank Statement\n",
    "    \"\"\"\n",
    "    info_dict = dict()\n",
    "    \n",
    "    try:\n",
    "        # Connect with soure_doc\n",
    "        document = fitz.open(filename=source_doc)\n",
    "        base_name = os.path.basename(source_doc)[:-4]\n",
    "        split_file_name = f'split_{base_name}.pdf'\n",
    "        location = os.path.join(save_location,split_file_name)\n",
    "        num_pages = document.page_count\n",
    "\n",
    "        # Create blank document\n",
    "        blank_doc = fitz.open()\n",
    "\n",
    "        # Insert relevant page to new doc\n",
    "        blank_doc.insert_pdf(docsrc=document,from_page=start_page-1,to_page=end_page-1)\n",
    "\n",
    "        # Save new document in the metioned location\n",
    "        blank_doc.save(filename=location)\n",
    "\n",
    "        # Save info of doc to dict\n",
    "        info_dict['pdf_name'] = base_name\n",
    "        info_dict['page_num'] = num_pages\n",
    "        info_dict['split_from'] = start_page\n",
    "        info_dict['split_to'] = end_page\n",
    "        info_dict['Save_location'] = save_location\n",
    "        info_dict['pdf_split_name'] = split_file_name\n",
    "    except Exception as e:\n",
    "        info_dict['Error'] = e\n",
    "        return info_dict\n",
    "    else:\n",
    "        return info_dict"
   ]
  },
  {
   "cell_type": "markdown",
   "id": "eb7447f4-0eaf-41ba-a64a-98e49b44cdf6",
   "metadata": {},
   "source": [
    "### TESTING"
   ]
  },
  {
   "cell_type": "code",
   "execution_count": 4,
   "id": "c775eda7-15b9-40b1-a9fa-8c82f2820424",
   "metadata": {},
   "outputs": [],
   "source": [
    "_dir = r'C:\\Users\\trilnd\\Desktop\\QBO\\File PDF\\Checks_to_combine\\Split\\Citi_checking_1.pdf'\n",
    "split_folder = r'C:\\Users\\trilnd\\Desktop\\QBO\\File PDF\\Checks_to_combine\\Split\\Output'"
   ]
  },
  {
   "cell_type": "code",
   "execution_count": 5,
   "id": "eedadb8b-f7d2-44c5-9bb9-25b111f5ce0a",
   "metadata": {},
   "outputs": [],
   "source": [
    "result =Split_document(source_doc=_dir,\n",
    "                       start_page=5,\n",
    "                       end_page=100,\n",
    "                       save_location=split_folder)"
   ]
  },
  {
   "cell_type": "code",
   "execution_count": 6,
   "id": "c05a2052-c55c-4dd1-b8b8-37ce25986958",
   "metadata": {},
   "outputs": [
    {
     "data": {
      "text/plain": [
       "{'pdf_name': 'Citi_checking_1',\n",
       " 'page_num': 8,\n",
       " 'split_from': 5,\n",
       " 'split_to': 100,\n",
       " 'Save_location': 'C:\\\\Users\\\\trilnd\\\\Desktop\\\\QBO\\\\File PDF\\\\Checks_to_combine\\\\Split\\\\Output',\n",
       " 'pdf_split_name': 'split_Citi_checking_1.pdf'}"
      ]
     },
     "execution_count": 6,
     "metadata": {},
     "output_type": "execute_result"
    }
   ],
   "source": [
    "result"
   ]
  },
  {
   "cell_type": "markdown",
   "id": "2e095b72",
   "metadata": {},
   "source": [
    "# BREAKDOWN FUNCTION"
   ]
  },
  {
   "cell_type": "markdown",
   "id": "0308bb36",
   "metadata": {},
   "source": [
    "## Breakdown combine"
   ]
  },
  {
   "cell_type": "code",
   "execution_count": 20,
   "id": "f295f4d4",
   "metadata": {},
   "outputs": [],
   "source": [
    "# If the path does not contain that folder, will create new folder\n",
    "if not os.path.isdir(split_folder):\n",
    "    os.mkdir(split_folder)"
   ]
  },
  {
   "cell_type": "code",
   "execution_count": 106,
   "id": "f831380c",
   "metadata": {},
   "outputs": [],
   "source": [
    "root = Tk()\n",
    "desktop_path = os.path.join(os.environ['USERPROFILE'], 'Desktop')\n",
    "files_list = list(filedialog.askopenfilenames(parent=root,\n",
    "                                              initialdir=desktop_path,\n",
    "                                              title='Choose a file'))\n",
    "root.mainloop()"
   ]
  },
  {
   "cell_type": "code",
   "execution_count": 90,
   "id": "f7008f6c",
   "metadata": {},
   "outputs": [
    {
     "data": {
      "text/plain": [
       "True"
      ]
     },
     "execution_count": 90,
     "metadata": {},
     "output_type": "execute_result"
    }
   ],
   "source": [
    "os.path.isdir(split_folder)"
   ]
  },
  {
   "cell_type": "code",
   "execution_count": 100,
   "id": "9d5ff3ca",
   "metadata": {},
   "outputs": [
    {
     "data": {
      "text/plain": [
       "('C:/Users/trilnd/Desktop/QBO/File PDF/Checks_to_combine/Combine/Test_pdf_png/1764.PNG',\n",
       " 'C:/Users/trilnd/Desktop/QBO/File PDF/Checks_to_combine/Combine/Test_pdf_png/1772.PNG',\n",
       " 'C:/Users/trilnd/Desktop/QBO/File PDF/Checks_to_combine/Combine/Test_pdf_png/1773.PNG',\n",
       " 'C:/Users/trilnd/Desktop/QBO/File PDF/Checks_to_combine/Combine/Test_pdf_png/1890.pdf',\n",
       " 'C:/Users/trilnd/Desktop/QBO/File PDF/Checks_to_combine/Combine/Test_pdf_png/1891.pdf',\n",
       " 'C:/Users/trilnd/Desktop/QBO/File PDF/Checks_to_combine/Combine/Test_pdf_png/9999.PNG')"
      ]
     },
     "execution_count": 100,
     "metadata": {},
     "output_type": "execute_result"
    }
   ],
   "source": [
    "files_list"
   ]
  },
  {
   "cell_type": "code",
   "execution_count": 92,
   "id": "05f947f8",
   "metadata": {},
   "outputs": [
    {
     "name": "stdout",
     "output_type": "stream",
     "text": [
      "C:/Users/trilnd/Desktop/QBO/File PDF/Checks_to_combine/Combine/Test_pdf_png/1764.pdf\n",
      "C:/Users/trilnd/Desktop/QBO/File PDF/Checks_to_combine/Combine/Test_pdf_png/1765.pdf\n",
      "C:/Users/trilnd/Desktop/QBO/File PDF/Checks_to_combine/Combine/Test_pdf_png/1771.pdf\n",
      "C:/Users/trilnd/Desktop/QBO/File PDF/Checks_to_combine/Combine/Test_pdf_png/1772.pdf\n",
      "C:/Users/trilnd/Desktop/QBO/File PDF/Checks_to_combine/Combine/Test_pdf_png/9999.pdf\n"
     ]
    }
   ],
   "source": [
    "# Test whether this file is PDF?\n",
    "for i in range(len(files_list)):\n",
    "    file = files_list[i]\n",
    "    # Get extension\n",
    "    f,e = os.path.splitext(file)\n",
    "    if e[1:].lower() != 'pdf':\n",
    "        img = Image.open(file)\n",
    "        img = img.convert(mode='RGB')\n",
    "        path_pdf_file = f'{f}.pdf'\n",
    "        img.save(path_pdf_file,save_all=True)\n",
    "        print(path_pdf_file)\n",
    "        \n",
    "        # update files_list:\n",
    "        files_list[i] = path_pdf_file"
   ]
  },
  {
   "cell_type": "code",
   "execution_count": 93,
   "id": "84a1709d",
   "metadata": {},
   "outputs": [
    {
     "data": {
      "text/plain": [
       "['C:/Users/trilnd/Desktop/QBO/File PDF/Checks_to_combine/Combine/Test_pdf_png/1764.pdf',\n",
       " 'C:/Users/trilnd/Desktop/QBO/File PDF/Checks_to_combine/Combine/Test_pdf_png/1765.pdf',\n",
       " 'C:/Users/trilnd/Desktop/QBO/File PDF/Checks_to_combine/Combine/Test_pdf_png/1771.pdf',\n",
       " 'C:/Users/trilnd/Desktop/QBO/File PDF/Checks_to_combine/Combine/Test_pdf_png/1772.pdf',\n",
       " 'C:/Users/trilnd/Desktop/QBO/File PDF/Checks_to_combine/Combine/Test_pdf_png/1881.pdf',\n",
       " 'C:/Users/trilnd/Desktop/QBO/File PDF/Checks_to_combine/Combine/Test_pdf_png/1885.pdf',\n",
       " 'C:/Users/trilnd/Desktop/QBO/File PDF/Checks_to_combine/Combine/Test_pdf_png/1891.pdf',\n",
       " 'C:/Users/trilnd/Desktop/QBO/File PDF/Checks_to_combine/Combine/Test_pdf_png/9999.pdf']"
      ]
     },
     "execution_count": 93,
     "metadata": {},
     "output_type": "execute_result"
    }
   ],
   "source": [
    "files_list"
   ]
  },
  {
   "cell_type": "code",
   "execution_count": 94,
   "id": "a7dcedfc",
   "metadata": {},
   "outputs": [
    {
     "name": "stdout",
     "output_type": "stream",
     "text": [
      "File name -- 1764 -- Total page number: -- 1\n",
      "File name -- 1765 -- Total page number: -- 1\n",
      "File name -- 1771 -- Total page number: -- 1\n",
      "File name -- 1772 -- Total page number: -- 1\n",
      "File name -- 1881 -- Total page number: -- 1\n",
      "File name -- 1885 -- Total page number: -- 1\n",
      "File name -- 1891 -- Total page number: -- 1\n",
      "File name -- 9999 -- Total page number: -- 1\n"
     ]
    }
   ],
   "source": [
    "blank_doc = fitz.open()\n",
    "for file in files_list: \n",
    "    \n",
    "    # Parse file PDF\n",
    "    document = fitz.open(filename=file)\n",
    "    base_name = os.path.basename(file)[:-4]\n",
    "    print('File name',base_name,\"Total page number:\",document.page_count,sep=' -- ')\n",
    "    \n",
    "    # Insert document\n",
    "    blank_doc.insert_pdf(docsrc=document)"
   ]
  },
  {
   "cell_type": "code",
   "execution_count": 95,
   "id": "0b5f150c",
   "metadata": {},
   "outputs": [
    {
     "name": "stdout",
     "output_type": "stream",
     "text": [
      "120522-combine-pdf-png\n"
     ]
    }
   ],
   "source": [
    "combine_file_name = input()\n",
    "save_location = r'C:\\Users\\trilnd\\Desktop\\QBO\\File PDF\\Checks_to_combine\\Combine\\Output'\n",
    "combine_file_name = f'combine_{combine_file_name}.pdf'\n",
    "location = os.path.join(save_location,combine_file_name)"
   ]
  },
  {
   "cell_type": "code",
   "execution_count": 96,
   "id": "13b34fb3",
   "metadata": {},
   "outputs": [],
   "source": [
    "# Save new document in the relevant location\n",
    "blank_doc.save(filename=location)"
   ]
  },
  {
   "cell_type": "markdown",
   "id": "98585223",
   "metadata": {},
   "source": [
    "## Breakdown Split"
   ]
  },
  {
   "cell_type": "code",
   "execution_count": 10,
   "id": "271b516c",
   "metadata": {},
   "outputs": [],
   "source": [
    "dir_ = r'C:\\Users\\trilnd\\Desktop\\QBO\\File PDF\\Bank Statement\\BofA.pdf'\n",
    "# r'C:\\Users\\trilnd\\Desktop\\QBO\\File PDF\\Checks_to_combine\\Split\\2022.08 SignatureChecking.pdf'\n",
    "base_name = os.path.basename(dir_)[:-4]"
   ]
  },
  {
   "cell_type": "code",
   "execution_count": 11,
   "id": "ccc298c0",
   "metadata": {},
   "outputs": [
    {
     "name": "stdout",
     "output_type": "stream",
     "text": [
      "Total page number: 8\n"
     ]
    },
    {
     "data": {
      "text/plain": [
       "{'format': 'PDF 1.5',\n",
       " 'title': '',\n",
       " 'author': 'Bank of America',\n",
       " 'subject': '',\n",
       " 'keywords': '',\n",
       " 'creator': 'Bank of America',\n",
       " 'producer': 'TargetStream StreamEDS rv1.7.41 for Bank of America',\n",
       " 'creationDate': '',\n",
       " 'modDate': '',\n",
       " 'trapped': '',\n",
       " 'encryption': None}"
      ]
     },
     "execution_count": 11,
     "metadata": {},
     "output_type": "execute_result"
    }
   ],
   "source": [
    "doc1 = fitz.open(filename=dir_)\n",
    "print(\"Total page number:\",doc1.page_count)\n",
    "doc1.metadata"
   ]
  },
  {
   "cell_type": "code",
   "execution_count": 26,
   "id": "b9ae6cd8-02a0-4031-a717-f064b6544c0e",
   "metadata": {},
   "outputs": [],
   "source": [
    "# for page in doc1:\n",
    "#     area = page.search_for(\"Summary\")\n",
    "#     print(area)"
   ]
  },
  {
   "cell_type": "code",
   "execution_count": 19,
   "id": "340202a6",
   "metadata": {},
   "outputs": [],
   "source": [
    "blank_doc = fitz.open()"
   ]
  },
  {
   "cell_type": "code",
   "execution_count": 20,
   "id": "4dcc4a3d-80ea-45ae-8e24-f80159ea1ba6",
   "metadata": {},
   "outputs": [],
   "source": [
    "blank_doc.insert_pdf(docsrc=doc1,from_page=5,to_page=6)"
   ]
  },
  {
   "cell_type": "code",
   "execution_count": 25,
   "id": "e09b2233-37fb-46b3-b5a1-578f82bf96c5",
   "metadata": {},
   "outputs": [],
   "source": [
    "split_doc = f'C:/Users/trilnd/Desktop/QBO/File PDF/Checks_to_combine/Split/Output/split_{base_name}.pdf'\n",
    "blank_doc.save(filename=split_doc)"
   ]
  },
  {
   "cell_type": "code",
   "execution_count": 6,
   "id": "4eafcc52",
   "metadata": {},
   "outputs": [],
   "source": [
    "# root = Tk()\n",
    "# filez = filedialog.askopenfilenames(parent=root,\n",
    "#                                     initialdir=desktop_path,\n",
    "#                                     title='Choose a file')\n",
    "# filez\n",
    "# root.mainloop()"
   ]
  },
  {
   "cell_type": "code",
   "execution_count": null,
   "id": "3e1107ce",
   "metadata": {},
   "outputs": [],
   "source": []
  },
  {
   "cell_type": "code",
   "execution_count": null,
   "id": "c6b08159",
   "metadata": {},
   "outputs": [],
   "source": []
  }
 ],
 "metadata": {
  "kernelspec": {
   "display_name": "Python 3 (ipykernel)",
   "language": "python",
   "name": "python3"
  },
  "language_info": {
   "codemirror_mode": {
    "name": "ipython",
    "version": 3
   },
   "file_extension": ".py",
   "mimetype": "text/x-python",
   "name": "python",
   "nbconvert_exporter": "python",
   "pygments_lexer": "ipython3",
   "version": "3.9.13"
  },
  "toc-autonumbering": true
 },
 "nbformat": 4,
 "nbformat_minor": 5
}
